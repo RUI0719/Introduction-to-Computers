{
  "cells": [
    {
      "cell_type": "markdown",
      "metadata": {
        "id": "view-in-github",
        "colab_type": "text"
      },
      "source": [
        "<a href=\"https://colab.research.google.com/github/RUI0719/Introduction-to-Computers/blob/main/0522.ipynb\" target=\"_parent\"><img src=\"https://colab.research.google.com/assets/colab-badge.svg\" alt=\"Open In Colab\"/></a>"
      ]
    },
    {
      "cell_type": "code",
      "execution_count": null,
      "metadata": {
        "colab": {
          "base_uri": "https://localhost:8080/"
        },
        "id": "9_8uMRoLguup",
        "outputId": "cbf0dd2f-5524-4747-fab4-b2ad526cdfbe"
      },
      "outputs": [
        {
          "name": "stdout",
          "output_type": "stream",
          "text": [
            "0522\n"
          ]
        }
      ],
      "source": [
        "print(\"0522\")"
      ]
    },
    {
      "cell_type": "code",
      "execution_count": null,
      "metadata": {
        "id": "EMxAtvdBg1dP"
      },
      "outputs": [],
      "source": [
        "list1 = range(1, 5)"
      ]
    },
    {
      "cell_type": "code",
      "execution_count": null,
      "metadata": {
        "colab": {
          "base_uri": "https://localhost:8080/"
        },
        "id": "ZnR8S3lpg-AQ",
        "outputId": "db41154e-e5b6-4245-9d79-e78e5722e703"
      },
      "outputs": [
        {
          "data": {
            "text/plain": [
              "[1, 2, 3, 4]"
            ]
          },
          "execution_count": 3,
          "metadata": {},
          "output_type": "execute_result"
        }
      ],
      "source": [
        "list(list1)"
      ]
    },
    {
      "cell_type": "code",
      "execution_count": null,
      "metadata": {
        "id": "wGCuVKAWhDTz"
      },
      "outputs": [],
      "source": [
        "list2 = range(3, 8)"
      ]
    },
    {
      "cell_type": "code",
      "execution_count": null,
      "metadata": {
        "colab": {
          "base_uri": "https://localhost:8080/"
        },
        "id": "dGi4Em8OhG2O",
        "outputId": "0a4ff17f-9f6e-4ef5-a730-c883c9d9970d"
      },
      "outputs": [
        {
          "data": {
            "text/plain": [
              "[3, 4, 5, 6, 7]"
            ]
          },
          "execution_count": 8,
          "metadata": {},
          "output_type": "execute_result"
        }
      ],
      "source": [
        "list(list2)"
      ]
    },
    {
      "cell_type": "code",
      "execution_count": null,
      "metadata": {
        "id": "WNNcQyoUhLJM"
      },
      "outputs": [],
      "source": [
        "list3 = range(-2, 4)"
      ]
    },
    {
      "cell_type": "code",
      "execution_count": null,
      "metadata": {
        "colab": {
          "base_uri": "https://localhost:8080/"
        },
        "id": "smqUylnHhclv",
        "outputId": "14f5e71c-3f8a-4f2f-82ef-c5f80cc31515"
      },
      "outputs": [
        {
          "data": {
            "text/plain": [
              "[-2, -1, 0, 1, 2, 3]"
            ]
          },
          "execution_count": 10,
          "metadata": {},
          "output_type": "execute_result"
        }
      ],
      "source": [
        "list(list3)"
      ]
    },
    {
      "cell_type": "code",
      "execution_count": null,
      "metadata": {
        "id": "PVKeDM_Yhf1H"
      },
      "outputs": [],
      "source": [
        "list4 = range(6)"
      ]
    },
    {
      "cell_type": "code",
      "execution_count": null,
      "metadata": {
        "colab": {
          "base_uri": "https://localhost:8080/"
        },
        "id": "DnklnojihoU_",
        "outputId": "5cab6f66-b294-4f9a-928a-64d31808dd02"
      },
      "outputs": [
        {
          "data": {
            "text/plain": [
              "[0, 1, 2, 3, 4, 5]"
            ]
          },
          "execution_count": 12,
          "metadata": {},
          "output_type": "execute_result"
        }
      ],
      "source": [
        "list(list4)"
      ]
    },
    {
      "cell_type": "code",
      "execution_count": null,
      "metadata": {
        "id": "264XEtO3hrZD"
      },
      "outputs": [],
      "source": [
        "list5 = range(8)"
      ]
    },
    {
      "cell_type": "code",
      "execution_count": null,
      "metadata": {
        "colab": {
          "base_uri": "https://localhost:8080/"
        },
        "id": "rErLJeMThv8G",
        "outputId": "39758af7-7881-4300-e729-bce5d6e75d4b"
      },
      "outputs": [
        {
          "data": {
            "text/plain": [
              "[0, 1, 2, 3, 4, 5, 6, 7]"
            ]
          },
          "execution_count": 14,
          "metadata": {},
          "output_type": "execute_result"
        }
      ],
      "source": [
        "list(list5)"
      ]
    },
    {
      "cell_type": "code",
      "execution_count": null,
      "metadata": {
        "id": "fRPkgqbZhy9s"
      },
      "outputs": [],
      "source": [
        "list6 = range(3, 8, 2)"
      ]
    },
    {
      "cell_type": "code",
      "execution_count": null,
      "metadata": {
        "colab": {
          "base_uri": "https://localhost:8080/"
        },
        "id": "wd54ixpxh7Pm",
        "outputId": "ea03091c-6eae-4444-c645-0aa6c9272774"
      },
      "outputs": [
        {
          "data": {
            "text/plain": [
              "[3, 5, 7]"
            ]
          },
          "execution_count": 18,
          "metadata": {},
          "output_type": "execute_result"
        }
      ],
      "source": [
        "list(list6)"
      ]
    },
    {
      "cell_type": "code",
      "execution_count": null,
      "metadata": {
        "id": "kGHOb6xNiEqw"
      },
      "outputs": [],
      "source": [
        "list7 = range(8, 3, -2)"
      ]
    },
    {
      "cell_type": "code",
      "execution_count": null,
      "metadata": {
        "colab": {
          "base_uri": "https://localhost:8080/"
        },
        "id": "fgiqkTVYiJqz",
        "outputId": "1c4ec571-3087-4948-e573-9312f2e3d0d1"
      },
      "outputs": [
        {
          "data": {
            "text/plain": [
              "[8, 6, 4]"
            ]
          },
          "execution_count": 20,
          "metadata": {},
          "output_type": "execute_result"
        }
      ],
      "source": [
        "list(list7)"
      ]
    },
    {
      "cell_type": "code",
      "execution_count": null,
      "metadata": {
        "id": "07qkeWFqiNCY"
      },
      "outputs": [],
      "source": [
        "list8 = range(3, 9, 2)"
      ]
    },
    {
      "cell_type": "code",
      "execution_count": null,
      "metadata": {
        "colab": {
          "base_uri": "https://localhost:8080/"
        },
        "id": "z0HyUNWSiXOR",
        "outputId": "d739edec-fc81-4524-9838-8d6b7f45cc6a"
      },
      "outputs": [
        {
          "data": {
            "text/plain": [
              "[3, 5, 7]"
            ]
          },
          "execution_count": 25,
          "metadata": {},
          "output_type": "execute_result"
        }
      ],
      "source": [
        "list(list8)"
      ]
    },
    {
      "cell_type": "code",
      "execution_count": null,
      "metadata": {
        "id": "heX0O956ilEV"
      },
      "outputs": [],
      "source": [
        "list9 = range(9, 3, -2)"
      ]
    },
    {
      "cell_type": "code",
      "execution_count": null,
      "metadata": {
        "colab": {
          "base_uri": "https://localhost:8080/"
        },
        "id": "eqaYH79aipov",
        "outputId": "cd647c02-ee60-4ebe-ae97-96fa4e3a81dd"
      },
      "outputs": [
        {
          "data": {
            "text/plain": [
              "[9, 7, 5]"
            ]
          },
          "execution_count": 27,
          "metadata": {},
          "output_type": "execute_result"
        }
      ],
      "source": [
        "list(list9)"
      ]
    },
    {
      "cell_type": "code",
      "execution_count": null,
      "metadata": {
        "id": "GIfrp5QwisfC"
      },
      "outputs": [],
      "source": [
        "list10 = range(8, 1, -2)"
      ]
    },
    {
      "cell_type": "code",
      "execution_count": null,
      "metadata": {
        "colab": {
          "base_uri": "https://localhost:8080/"
        },
        "id": "c9EaVPu1izuc",
        "outputId": "a80900bc-8a22-4c7d-c0d3-d014f03d4218"
      },
      "outputs": [
        {
          "data": {
            "text/plain": [
              "[8, 6, 4, 2]"
            ]
          },
          "execution_count": 36,
          "metadata": {},
          "output_type": "execute_result"
        }
      ],
      "source": [
        "list(list10)"
      ]
    },
    {
      "cell_type": "code",
      "execution_count": null,
      "metadata": {
        "id": "gOKtsN_7jFpK"
      },
      "outputs": [],
      "source": [
        "list11 = range(0, 9)"
      ]
    },
    {
      "cell_type": "code",
      "execution_count": null,
      "metadata": {
        "colab": {
          "base_uri": "https://localhost:8080/"
        },
        "id": "S-ns4H3njVEg",
        "outputId": "f0b2ada0-5666-4612-93b8-98235e2b85f4"
      },
      "outputs": [
        {
          "data": {
            "text/plain": [
              "[0, 1, 2, 3, 4, 5, 6, 7, 8]"
            ]
          },
          "execution_count": 38,
          "metadata": {},
          "output_type": "execute_result"
        }
      ],
      "source": [
        "list(list11)"
      ]
    },
    {
      "cell_type": "code",
      "execution_count": null,
      "metadata": {
        "id": "5GLRpf6GjXTF"
      },
      "outputs": [],
      "source": [
        "list12 = range(1, 10)"
      ]
    },
    {
      "cell_type": "code",
      "execution_count": null,
      "metadata": {
        "colab": {
          "base_uri": "https://localhost:8080/"
        },
        "id": "aYCcoWbUjdr0",
        "outputId": "3b68344f-b8e4-482b-e0ad-0c9fdd7e88ba"
      },
      "outputs": [
        {
          "data": {
            "text/plain": [
              "[1, 2, 3, 4, 5, 6, 7, 8, 9]"
            ]
          },
          "execution_count": 40,
          "metadata": {},
          "output_type": "execute_result"
        }
      ],
      "source": [
        "list(list12)"
      ]
    },
    {
      "cell_type": "code",
      "execution_count": null,
      "metadata": {
        "id": "zcaKIqd0jfxR"
      },
      "outputs": [],
      "source": [
        "list13 = range(1, 11, 2)"
      ]
    },
    {
      "cell_type": "code",
      "execution_count": null,
      "metadata": {
        "colab": {
          "base_uri": "https://localhost:8080/"
        },
        "id": "gBIEcHwZjtF_",
        "outputId": "dd0a4a4d-07c7-4622-909a-1d07556dc700"
      },
      "outputs": [
        {
          "data": {
            "text/plain": [
              "[1, 3, 5, 7, 9]"
            ]
          },
          "execution_count": 42,
          "metadata": {},
          "output_type": "execute_result"
        }
      ],
      "source": [
        "list(list13)"
      ]
    },
    {
      "cell_type": "code",
      "execution_count": null,
      "metadata": {
        "id": "-_uWAUabjwAH"
      },
      "outputs": [],
      "source": [
        "list14 = range(10, 1, -2)"
      ]
    },
    {
      "cell_type": "code",
      "execution_count": null,
      "metadata": {
        "colab": {
          "base_uri": "https://localhost:8080/"
        },
        "id": "VZHwHbUsj7Ca",
        "outputId": "bffd3701-76de-4ddf-ca10-4e3affd7bd6f"
      },
      "outputs": [
        {
          "data": {
            "text/plain": [
              "[10, 8, 6, 4, 2]"
            ]
          },
          "execution_count": 46,
          "metadata": {},
          "output_type": "execute_result"
        }
      ],
      "source": [
        "list(list14)"
      ]
    },
    {
      "cell_type": "code",
      "execution_count": 78,
      "metadata": {
        "colab": {
          "base_uri": "https://localhost:8080/"
        },
        "id": "Rl7m9HOhkCOW",
        "outputId": "f5577abe-d11c-461b-806f-8bbf4e16ef4f"
      },
      "outputs": [
        {
          "output_type": "stream",
          "name": "stdout",
          "text": [
            "請輸入一個正整數：5\n",
            "1 2 3 4 5 "
          ]
        }
      ],
      "source": [
        "n = int(input(\"請輸入一個正整數：\"))\n",
        "for n in range(1, n+1):\n",
        "  print(n, end=\" \")"
      ]
    },
    {
      "cell_type": "code",
      "execution_count": 83,
      "metadata": {
        "colab": {
          "base_uri": "https://localhost:8080/"
        },
        "id": "xKKbaMZok9KB",
        "outputId": "d0afca62-1102-441e-bc9d-44dbcc99cf69"
      },
      "outputs": [
        {
          "output_type": "stream",
          "name": "stdout",
          "text": [
            "請輸入一個正整數：12\n",
            "1 2 3 4 5 6 7 8 9 10 11 12 "
          ]
        }
      ],
      "source": [
        "n = int(input(\"請輸入一個正整數：\"))\n",
        "for n in range(1, n+1):\n",
        "  print(n, end=\" \")"
      ]
    },
    {
      "cell_type": "code",
      "source": [
        "for n in range(3):\n",
        "  print(n, end=',')"
      ],
      "metadata": {
        "colab": {
          "base_uri": "https://localhost:8080/"
        },
        "id": "utzYOUDR0BI5",
        "outputId": "024cb1ea-c25b-4eec-ab4b-20462fee399d"
      },
      "execution_count": null,
      "outputs": [
        {
          "output_type": "stream",
          "name": "stdout",
          "text": [
            "0,1,2,"
          ]
        }
      ]
    },
    {
      "cell_type": "code",
      "execution_count": 77,
      "metadata": {
        "id": "DEbag6Z3nZdM",
        "colab": {
          "base_uri": "https://localhost:8080/"
        },
        "outputId": "23a06e97-3948-441d-ab83-f5bad073c154"
      },
      "outputs": [
        {
          "output_type": "stream",
          "name": "stdout",
          "text": [
            "請輸入一個正整數：10\n",
            "1到10的整數和為 55\n"
          ]
        }
      ],
      "source": [
        "n = int(input(\"請輸入一個正整數：\"))\n",
        "sum = 0\n",
        "for n in range(1, n+1):\n",
        "    sum += n\n",
        "print(\"1到10的整數和為\", sum)"
      ]
    },
    {
      "cell_type": "code",
      "execution_count": 81,
      "metadata": {
        "colab": {
          "base_uri": "https://localhost:8080/"
        },
        "id": "8YH0tnmWqPbz",
        "outputId": "61fd7d85-cc28-4b30-9554-7981dadc5770"
      },
      "outputs": [
        {
          "output_type": "stream",
          "name": "stdout",
          "text": [
            "請輸入一個正整數：50\n",
            "1到50的整數和為 1275\n"
          ]
        }
      ],
      "source": [
        "n = int(input(\"請輸入一個正整數：\"))\n",
        "sum = 0\n",
        "for  in range(1, n+1):\n",
        "    sum += n\n",
        "print(\"1到50的整數和為\", sum)"
      ]
    }
  ],
  "metadata": {
    "colab": {
      "provenance": [],
      "authorship_tag": "ABX9TyN2ijXT4qSZVdYixGLmpPb4",
      "include_colab_link": true
    },
    "kernelspec": {
      "display_name": "Python 3",
      "name": "python3"
    },
    "language_info": {
      "name": "python"
    }
  },
  "nbformat": 4,
  "nbformat_minor": 0
}